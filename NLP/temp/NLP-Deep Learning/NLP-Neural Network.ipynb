{
 "cells": [
  {
   "cell_type": "markdown",
   "metadata": {},
   "source": [
    "# Imports"
   ]
  },
  {
   "cell_type": "code",
   "execution_count": 3,
   "metadata": {
    "ExecuteTime": {
     "end_time": "2019-06-17T14:14:11.642806Z",
     "start_time": "2019-06-17T14:14:11.637819Z"
    }
   },
   "outputs": [],
   "source": [
    "def softmax(x):\n",
    "    e_x = np.exp(x - np.max(x))\n",
    "    return e_x / e_x.sum(axis=0)\n",
    "\n",
    "\n",
    "def sigmoid(x):\n",
    "    return 1 / (1 + np.exp(-x))"
   ]
  },
  {
   "cell_type": "markdown",
   "metadata": {},
   "source": [
    "# Introduction"
   ]
  },
  {
   "cell_type": "markdown",
   "metadata": {},
   "source": [
    "**Some Sequence Related Task**\n",
    "\n",
    "![](images/1.PNG)\n",
    "\n",
    "\n",
    "**1. Speech Recognition** \n",
    "\n",
    "   **Input** - Audio <br>\n",
    "   **Output**- The text corresponding to the audio\n",
    "\n",
    "**2. Music Generation  -  One to Many**\n",
    "\n",
    "**Input** \n",
    "    1. Genre of Music ( An Identifier)\n",
    "    2. Few Notes of the music\n",
    "        \n",
    "**Output** -Sequence of text  \n",
    "\n",
    "**3. Sentiment Classification  - Many to One**\n",
    "    \n",
    "**Input** - Sequence \n",
    "    \n",
    "**Ouptut** - Review Rating\n",
    " \n",
    "**4. DNA Sequence analysis**\n",
    "\n",
    "**Input** - Given the DNA sequence <br>\n",
    "**Ouput**- Label the sequence in which it finds the protein\n",
    "\n",
    "**5. Machine Translation  - Many to Many (diff lenght)**\n",
    "\n",
    "**Input** - Sequence in One language\n",
    "**Output** - Sequence in any desired Language\n",
    "\n",
    "**6. Video Activity Recognition** \n",
    "\n",
    "**Input** - Sequence of Frames of Video\n",
    "\n",
    "**Output** - Recognize the activity in the video\n",
    "\n",
    "**7. Name Entity Recognition  - Many to Many**\n",
    "**Input** - Sequence of Text\n",
    "**Ouput** - Recognize the person in the text\n",
    "\n",
    "\n",
    "**Things to Note:**\n",
    "\n",
    "1. They are all Supervised Learning Problem with label data X,Y as training set\n",
    "2. There are Different type of Sequence problems where we will encounter with the following:\n",
    "    1. X and Y are of the same sequence length\n",
    "    2. X and Y are of  different sequence length\n",
    "    3. Only Either X or only the opposite Y is a sequence\n"
   ]
  },
  {
   "cell_type": "markdown",
   "metadata": {},
   "source": [
    "# Why not the Standard Neural Network\n",
    "\n",
    "1. Inputs, outputs can be of different lengths in different examples\n",
    "2. Doesnot share features learned across different positions of text.\n",
    "3. Number of training parameters will be huge."
   ]
  },
  {
   "cell_type": "markdown",
   "metadata": {},
   "source": [
    "# Recurrent Neural Network\n",
    "\n",
    "Recurrent Neural Networks (RNN) are very effective for Natural Language Processing and other sequence tasks because they have \"memory\". They can read inputs $x^{\\langle t \\rangle}$ (such as words) one at a time, and remember some information/context through the hidden layer activations that get passed from one time-step to the next. This allows a uni-directional RNN to take information from the past to process later inputs.\n",
    "\n",
    "\n",
    "\n",
    "1. Recurrent Neural Network scans through the data from left to right.\n",
    "2. Weight Parameters (Wax) between input and hidden layer is shared at every time step.\n",
    "3. Weight parameters (Waa) of hidden layers  is shared at every time step.\n",
    "4. Weight parameters (Wya) of the output prediction is shared at every time step.\n",
    "\n",
    "![](images/rnn.png)\n",
    "\n",
    "![](images/rnn_computation_graph.PNG)\n",
    "\n",
    "\n"
   ]
  },
  {
   "cell_type": "markdown",
   "metadata": {},
   "source": [
    "# Different RNN Architectures\n",
    "\n",
    "1. One to One\n",
    "2. One to Many\n",
    "3. Many to One\n",
    "4. Many to Many\n",
    "5. Many to Many ( of different length)\n",
    "\n",
    "\n",
    "\n",
    "![](images/rnn_arch.png)"
   ]
  },
  {
   "cell_type": "markdown",
   "metadata": {},
   "source": [
    "# Time to Code.. -RNN Cell"
   ]
  },
  {
   "cell_type": "code",
   "execution_count": 1,
   "metadata": {
    "ExecuteTime": {
     "end_time": "2019-06-17T14:14:03.868595Z",
     "start_time": "2019-06-17T14:14:00.956156Z"
    }
   },
   "outputs": [],
   "source": [
    "import numpy as np\n",
    "# GRADED FUNCTION: rnn_cell_forward\n",
    "\n",
    "def rnn_cell_forward(xt, a_prev, parameters):\n",
    "    \"\"\"\n",
    "    Implements a single forward step of the RNN-cell as described in Figure (2)\n",
    "\n",
    "    Arguments:\n",
    "    xt -- your input data at timestep \"t\", numpy array of shape (n_x, m).\n",
    "    a_prev -- Hidden state at timestep \"t-1\", numpy array of shape (n_a, m)\n",
    "    parameters -- python dictionary containing:\n",
    "                        Wax -- Weight matrix multiplying the input, numpy array of shape (n_a, n_x)\n",
    "                        Waa -- Weight matrix multiplying the hidden state, numpy array of shape (n_a, n_a)\n",
    "                        Wya -- Weight matrix relating the hidden-state to the output, numpy array of shape (n_y, n_a)\n",
    "                        ba --  Bias, numpy array of shape (n_a, 1)\n",
    "                        by -- Bias relating the hidden-state to the output, numpy array of shape (n_y, 1)\n",
    "    Returns:\n",
    "    a_next -- next hidden state, of shape (n_a, m)\n",
    "    yt_pred -- prediction at timestep \"t\", numpy array of shape (n_y, m)\n",
    "    cache -- tuple of values needed for the backward pass, contains (a_next, a_prev, xt, parameters)\n",
    "    \"\"\"\n",
    "    \n",
    "    # Retrieve parameters from \"parameters\"\n",
    "    Wax = parameters[\"Wax\"]\n",
    "    Waa = parameters[\"Waa\"]\n",
    "    Wya = parameters[\"Wya\"]\n",
    "    ba = parameters[\"ba\"]\n",
    "    by = parameters[\"by\"]\n",
    "    \n",
    "    ### START CODE HERE ### (≈2 lines)\n",
    "    # compute next activation state using the formula given above\n",
    "    a_next = np.tanh(np.dot(Wax,xt)+np.dot(Waa,a_prev)+ba)\n",
    "    # compute output of the current cell using the formula given above\n",
    "    yt_pred = softmax(np.dot(Wya,a_prev)+by)\n",
    "    ### END CODE HERE ###\n",
    "    \n",
    "    # store values you need for backward propagation in cache\n",
    "    cache = (a_next, a_prev, xt, parameters)\n",
    "    \n",
    "    return a_next, yt_pred, cache"
   ]
  },
  {
   "cell_type": "markdown",
   "metadata": {},
   "source": [
    "![](images/rnn_2.PNG)"
   ]
  },
  {
   "cell_type": "code",
   "execution_count": 8,
   "metadata": {
    "ExecuteTime": {
     "end_time": "2019-06-17T14:18:20.668158Z",
     "start_time": "2019-06-17T14:18:20.656191Z"
    }
   },
   "outputs": [
    {
     "name": "stdout",
     "output_type": "stream",
     "text": [
      "Input at time step t [Vocab size = 3, Number of examples = 10]\n",
      "a_next[4] =  [ 0.59584544  0.18141802  0.61311866  0.99808218  0.85016201  0.99980978\n",
      " -0.18887155  0.99815551  0.6531151   0.82872037]\n",
      "a_next.shape =  (5, 10)\n",
      "yt_pred[1] = [8.81942644e-01 9.98497562e-01 8.37133927e-01 4.09465399e-04\n",
      " 5.18121397e-01 9.98005078e-01 9.93355867e-01 4.49682713e-02\n",
      " 9.54171622e-01 9.80509463e-05]\n",
      "yt_pred[2] = [0.11805736 0.00150244 0.16286607 0.99959053 0.4818786  0.00199492\n",
      " 0.00664413 0.95503173 0.04582838 0.99990195]\n",
      "yt_pred.shape =  (2, 10)\n"
     ]
    }
   ],
   "source": [
    "np.random.seed(1)\n",
    "xt = np.random.randn(3,10)\n",
    "print(\"Input at time step t [Vocab size = {}, Number of examples = {}]\".format(xt.shape[0],xt.shape[1]))\n",
    "a_prev = np.random.randn(5,10)  #[Hidden layers neurons , No of Examples]\n",
    "\n",
    "Waa = np.random.randn(5,5)  #[Previous ,Current]\n",
    "Wax = np.random.randn(5,3)  #[Number of Hidden Layers,Inputer Vector Size]\n",
    "Wya = np.random.randn(2,5)  #[No of outputs , Number of Examples]\n",
    "ba = np.random.randn(5,1)   #[Number of Hidden Layers]\n",
    "by = np.random.randn(2,1)   #[Number of output neurons]\n",
    "parameters = {\"Waa\": Waa, \"Wax\": Wax, \"Wya\": Wya, \"ba\": ba, \"by\": by}\n",
    "\n",
    "a_next, yt_pred, cache = rnn_cell_forward(xt, a_prev, parameters)\n",
    "print(\"a_next[4] = \", a_next[4])\n",
    "print(\"a_next.shape = \", a_next.shape)\n",
    "print(\"yt_pred[1] =\", yt_pred[0])\n",
    "print(\"yt_pred[2] =\", yt_pred[1])\n",
    "print(\"yt_pred.shape = \", yt_pred.shape)"
   ]
  },
  {
   "cell_type": "markdown",
   "metadata": {},
   "source": [
    "# RNN Forward Pass\n",
    "You can see an RNN as the repetition of the cell you've just built. If your input sequence of data is carried over 10 time steps, then you will copy the RNN cell 10 times. Each cell takes as input the hidden state from the previous cell ($a^{\\langle t-1 \\rangle}$) and the current time-step's input data ($x^{\\langle t \\rangle}$). It outputs a hidden state ($a^{\\langle t \\rangle}$) and a prediction ($y^{\\langle t \\rangle}$) for this time-step.\n",
    "\n",
    "![](images/rnn_forward.png)\n"
   ]
  },
  {
   "cell_type": "markdown",
   "metadata": {},
   "source": [
    "# Time to Code... RNN Forward Pass\n",
    "![](images/rnn_fp.PNG)\n",
    "\n",
    "**What we will try to do:**\n",
    "1. Create a vector of zeros ($a$) that will store all the hidden states computed by the RNN.\n",
    "2. Initialize the \"next\" hidden state as $a_0$ (initial hidden state).\n",
    "3. Start looping over each time step, your incremental index is $t$ :\n",
    "    - Update the \"next\" hidden state and the cache by running `rnn_cell_forward`\n",
    "    - Store the \"next\" hidden state in $a$ ($t^{th}$ position) \n",
    "    - Store the prediction in y\n",
    "    - Add the cache to the list of caches\n",
    "4. Return $a$, $y$ and caches"
   ]
  },
  {
   "cell_type": "code",
   "execution_count": 9,
   "metadata": {
    "ExecuteTime": {
     "end_time": "2019-06-17T17:07:20.266731Z",
     "start_time": "2019-06-17T17:07:20.234314Z"
    }
   },
   "outputs": [],
   "source": [
    "def rnn_forward(x, a0, parameters):\n",
    "    \"\"\"\n",
    "    Implement the forward propagation of the recurrent neural network described in Figure (3).\n",
    "\n",
    "    Arguments:\n",
    "    x -- Input data for every time-step, of shape (n_x, m, T_x).\n",
    "    a0 -- Initial hidden state, of shape (n_a, m)\n",
    "    parameters -- python dictionary containing:\n",
    "                        Waa -- Weight matrix multiplying the hidden state, numpy array of shape (n_a, n_a)\n",
    "                        Wax -- Weight matrix multiplying the input, numpy array of shape (n_a, n_x)\n",
    "                        Wya -- Weight matrix relating the hidden-state to the output, numpy array of shape (n_y, n_a)\n",
    "                        ba --  Bias numpy array of shape (n_a, 1)\n",
    "                        by -- Bias relating the hidden-state to the output, numpy array of shape (n_y, 1)\n",
    "\n",
    "    Returns:\n",
    "    a -- Hidden states for every time-step, numpy array of shape (n_a, m, T_x)\n",
    "    y_pred -- Predictions for every time-step, numpy array of shape (n_y, m, T_x)\n",
    "    caches -- tuple of values needed for the backward pass, contains (list of caches, x)\n",
    "    \"\"\"\n",
    "    \n",
    "    # Initialize \"caches\" which will contain the list of all caches\n",
    "    caches = []\n",
    "    \n",
    "    # Retrieve dimensions from shapes of x and parameters[\"Wya\"]\n",
    "    n_x, m, T_x = x.shape\n",
    "    n_y, n_a = parameters[\"Wya\"].shape\n",
    "    \n",
    "    ### START CODE HERE ###\n",
    "    \n",
    "    # initialize \"a\" and \"y\" with zeros (≈2 lines)\n",
    "    a = np.zeros(shape=(n_a,m,T_x))\n",
    "    y_pred = np.zeros(shape=(n_y,m,T_x))\n",
    "    \n",
    "    # Initialize a_next (≈1 line)\n",
    "    a_next = a0\n",
    "    \n",
    "    # loop over all time-steps\n",
    "    for t in range(T_x):\n",
    "        # Update next hidden state, compute the prediction, get the cache (≈1 line)\n",
    "        a_next, yt_pred, cache = rnn_cell_forward(x[:,:,t],a_next,parameters)\n",
    "        # Save the value of the new \"next\" hidden state in a (≈1 line)\n",
    "        a[:,:,t] = a_next\n",
    "        # Save the value of the prediction in y (≈1 line)\n",
    "        y_pred[:,:,t] = yt_pred\n",
    "        # Append \"cache\" to \"caches\" (≈1 line)\n",
    "        caches.append(cache)\n",
    "        \n",
    "    ### END CODE HERE ###\n",
    "    \n",
    "    # store values needed for backward propagation in cache\n",
    "    caches = (caches, x)\n",
    "    \n",
    "    return a, y_pred, caches"
   ]
  },
  {
   "cell_type": "code",
   "execution_count": 10,
   "metadata": {
    "ExecuteTime": {
     "end_time": "2019-06-17T17:07:21.015947Z",
     "start_time": "2019-06-17T17:07:20.995645Z"
    }
   },
   "outputs": [
    {
     "name": "stdout",
     "output_type": "stream",
     "text": [
      "a[4][1] =  [-0.99999375  0.77911235 -0.99861469 -0.99833267]\n",
      "a.shape =  (5, 10, 4)\n",
      "y_pred[1][3] = [0.96251083 0.79560373 0.86224861 0.11118257]\n",
      "y_pred.shape =  (2, 10, 4)\n",
      "caches[1][1][3] = [-1.1425182  -0.34934272 -0.20889423  0.58662319]\n",
      "len(caches) =  2\n"
     ]
    }
   ],
   "source": [
    "np.random.seed(1)\n",
    "x = np.random.randn(3,10,4)\n",
    "a0 = np.random.randn(5,10)\n",
    "Waa = np.random.randn(5,5)\n",
    "Wax = np.random.randn(5,3)\n",
    "Wya = np.random.randn(2,5)\n",
    "ba = np.random.randn(5,1)\n",
    "by = np.random.randn(2,1)\n",
    "parameters = {\"Waa\": Waa, \"Wax\": Wax, \"Wya\": Wya, \"ba\": ba, \"by\": by}\n",
    "\n",
    "a, y_pred, caches = rnn_forward(x, a0, parameters)\n",
    "print(\"a[4][1] = \", a[4][1])\n",
    "print(\"a.shape = \", a.shape)\n",
    "print(\"y_pred[1][3] =\", y_pred[1][3])\n",
    "print(\"y_pred.shape = \", y_pred.shape)\n",
    "print(\"caches[1][1][3] =\", caches[1][1][3])\n",
    "print(\"len(caches) = \", len(caches))"
   ]
  },
  {
   "cell_type": "markdown",
   "metadata": {},
   "source": [
    "# Vanishing Gradient"
   ]
  },
  {
   "cell_type": "markdown",
   "metadata": {},
   "source": [
    "# GRU Simplified\n",
    "\n",
    "[On the properties of neural machine translation: Encoder Decoder Approaches](https://arxiv.org/abs/1409.1259)\n",
    "<br>\n",
    "[Empirical Evalaution of Gated Recurrent Neural Networks on Sequence Modeling](https://arxiv.org/abs/1412.3555)\n",
    "\n",
    "1. A new variable C for memory cell\n",
    "2. Update Gate ($\\Gamma$<sub>u</sub>) - a value between 0 nd 1\n",
    "\n",
    "C<sup>t </sup> = a<sup>t</sup>\n",
    "<br>\n",
    "\n",
    "C<sup>t' </sup> =tanh( W<sub>c</sub> [ C <sup>t-1 </sup> , X <sup>t </sup> ] + b<sup>c </sup>)\n",
    "<br>\n",
    "\n",
    "$\\Gamma (u)$  = $\\sigma$(W<sub>u </sub>[C<sup>t-1 </sup> , X<sup>t </sup>] + b <sup>u </sup>\n",
    "<br>\n",
    "\n",
    "C<sup>t </sup> = $\\Gamma$ * C<sup>t' </sup> + 1-$\\Gamma$ * C<sup>t-1 </sup>\n",
    "\n",
    "![](images/gru_cell.png)\n",
    "\n"
   ]
  },
  {
   "cell_type": "markdown",
   "metadata": {},
   "source": [
    "\n",
    "# GRU Full \n",
    "\n",
    "1. A new variable C for memory cell\n",
    "2. Update Gate ($\\Gamma$<sub>u</sub>) - a value between 0 nd 1\n",
    "3. Relevant Gate($\\Gamma$<sub>r</sub>)\n",
    "\n",
    "C<sup>t' </sup> =tanh( W<sub>c</sub> [ $\\Gamma$<sub>r</sub> *  C <sup>t-1 </sup> , X <sup>t </sup> ] + b<sup>c </sup>)\n",
    "<br>\n",
    "\n",
    "$\\Gamma (u)$  = $\\sigma$(W<sub>u </sub>[C<sup>t-1 </sup> , X<sup>t </sup>] + b <sup>u </sup>\n",
    "<br>\n",
    "\n",
    "$\\Gamma (r)$  = $\\sigma$(W<sub>r </sub>[C<sup>t-1 </sup> , X<sup>t </sup>] + b <sup>r </sup>\n",
    "<br>\n",
    "\n",
    "C<sup>t </sup> = $\\Gamma$<sub>u</sub> * C<sup>t' </sup> + ( 1-$\\Gamma$<sub>u</sub> ) * C<sup>t-1 </sup>\n",
    "\n"
   ]
  },
  {
   "cell_type": "markdown",
   "metadata": {},
   "source": [
    "# Long Short-Term Memory (LSTM) network - Generalized version of GRU\n",
    "\n",
    "![](images/lstm.PNG)\n",
    "\n",
    "#### - Forget gate\n",
    "\n",
    "For the sake of this illustration, lets assume we are reading words in a piece of text, and want use an LSTM to keep track of grammatical structures, such as whether the subject is singular or plural. If the subject changes from a singular word to a plural word, we need to find a way to get rid of our previously stored memory value of the singular/plural state. In an LSTM, the forget gate lets us do this: \n",
    "\n",
    "$$\\Gamma_f^{\\langle t \\rangle} = \\sigma(W_f[a^{\\langle t-1 \\rangle}, x^{\\langle t \\rangle}] + b_f)\\tag{1} $$\n",
    "\n",
    "Here, $W_f$ are weights that govern the forget gate's behavior. We concatenate $[a^{\\langle t-1 \\rangle}, x^{\\langle t \\rangle}]$ and multiply by $W_f$. The equation above results in a vector $\\Gamma_f^{\\langle t \\rangle}$ with values between 0 and 1. This forget gate vector will be multiplied element-wise by the previous cell state $c^{\\langle t-1 \\rangle}$. So if one of the values of $\\Gamma_f^{\\langle t \\rangle}$ is 0 (or close to 0) then it means that the LSTM should remove that piece of information (e.g. the singular subject) in the corresponding component of $c^{\\langle t-1 \\rangle}$. If one of the values is 1, then it will keep the information. \n",
    "\n",
    "#### - Update gate\n",
    "\n",
    "Once we forget that the subject being discussed is singular, we need to find a way to update it to reflect that the new subject is now plural. Here is the formulat for the update gate: \n",
    "\n",
    "$$\\Gamma_u^{\\langle t \\rangle} = \\sigma(W_u[a^{\\langle t-1 \\rangle}, x^{\\{t\\}}] + b_u)\\tag{2} $$ \n",
    "\n",
    "Similar to the forget gate, here $\\Gamma_u^{\\langle t \\rangle}$ is again a vector of values between 0 and 1. This will be multiplied element-wise with $\\tilde{c}^{\\langle t \\rangle}$, in order to compute $c^{\\langle t \\rangle}$.\n",
    "\n",
    "#### - Updating the cell \n",
    "\n",
    "To update the new subject we need to create a new vector of numbers that we can add to our previous cell state. The equation we use is: \n",
    "\n",
    "$$ \\tilde{c}^{\\langle t \\rangle} = \\tanh(W_c[a^{\\langle t-1 \\rangle}, x^{\\langle t \\rangle}] + b_c)\\tag{3} $$\n",
    "\n",
    "Finally, the new cell state is: \n",
    "\n",
    "$$ c^{\\langle t \\rangle} = \\Gamma_f^{\\langle t \\rangle}* c^{\\langle t-1 \\rangle} + \\Gamma_u^{\\langle t \\rangle} *\\tilde{c}^{\\langle t \\rangle} \\tag{4} $$\n",
    "\n",
    "\n",
    "#### - Output gate\n",
    "\n",
    "To decide which outputs we will use, we will use the following two formulas: \n",
    "\n",
    "$$ \\Gamma_o^{\\langle t \\rangle}=  \\sigma(W_o[a^{\\langle t-1 \\rangle}, x^{\\langle t \\rangle}] + b_o)\\tag{5}$$ \n",
    "$$ a^{\\langle t \\rangle} = \\Gamma_o^{\\langle t \\rangle}* \\tanh(c^{\\langle t \\rangle})\\tag{6} $$\n",
    "\n",
    "Where in equation 5 you decide what to output using a sigmoid function and in equation 6 you multiply that by the $\\tanh$ of the previous state. \n",
    "\n"
   ]
  },
  {
   "cell_type": "markdown",
   "metadata": {},
   "source": [
    "# Time to Code -LSTM Cell\n",
    "\n",
    "![](images/lstm_cell.PNG)\n",
    "\n",
    "**What we will do**:\n",
    "1. Concatenate $a^{\\langle t-1 \\rangle}$ and $x^{\\langle t \\rangle}$ in a single matrix: $concat = \\begin{bmatrix} a^{\\langle t-1 \\rangle} \\\\ x^{\\langle t \\rangle} \\end{bmatrix}$\n",
    "2. Compute all the formulas 1-6. You can use `sigmoid()` (provided) and `np.tanh()`.\n",
    "3. Compute the prediction $y^{\\langle t \\rangle}$. You can use `softmax()` (provided).\n",
    "\n",
    "1. A new variable C for memory cell\n",
    "2. Update Gate ($\\Gamma$<sub>u</sub>) - a value between 0 nd 1\n",
    "3. Forget Gate ($\\Gamma$<sub>f</sub>)\n",
    "3. Output Gate($\\Gamma$<sub>0</sub>)\n",
    "\n",
    "C<sup>t' </sup> =tanh( W<sub>c</sub> [ a <sup>t-1 </sup> , X <sup>t </sup> ] + b<sub>c </sub>)\n",
    "<br>\n",
    "\n",
    "$\\Gamma (u)$  = $\\sigma$(W<sub>u </sub>[a<sup>t-1 </sup> , X<sup>t </sup>] + b <sup>u </sup>\n",
    "<br>\n",
    "\n",
    "$\\Gamma (f)$  = $\\sigma$(W<sub>f </sub>[a<sup>t-1 </sup> , X<sup>t </sup>] + b <sup>u </sup>\n",
    "<br>\n",
    "\n",
    "$\\Gamma (o)$  = $\\sigma$(W<sub>o </sub>[a<sup>t-1 </sup> , X<sup>t </sup>] + b <sup>r </sup>\n",
    "<br>\n",
    "\n",
    "C<sup>t </sup> = $\\Gamma$<sub>u</sub> * C<sup>t' </sup> + ( 1-$\\Gamma$<sub>f</sub> ) * C<sup>t-1 </sup>\n",
    "\n",
    "a<sub>t</sub> =  $\\Gamma$<sub>o</sub> * tanh C<sup>t</sup>\n"
   ]
  },
  {
   "cell_type": "code",
   "execution_count": 11,
   "metadata": {
    "ExecuteTime": {
     "end_time": "2019-06-17T17:07:32.763926Z",
     "start_time": "2019-06-17T17:07:32.746793Z"
    }
   },
   "outputs": [],
   "source": [
    "# GRADED FUNCTION: lstm_cell_forward\n",
    "\n",
    "def lstm_cell_forward(xt, a_prev, c_prev, parameters):\n",
    "    \"\"\"\n",
    "    Implement a single forward step of the LSTM-cell as described in Figure (4)\n",
    "\n",
    "    Arguments:\n",
    "    xt -- your input data at timestep \"t\", numpy array of shape (n_x, m).\n",
    "    a_prev -- Hidden state at timestep \"t-1\", numpy array of shape (n_a, m)\n",
    "    c_prev -- Memory state at timestep \"t-1\", numpy array of shape (n_a, m)\n",
    "    parameters -- python dictionary containing:\n",
    "                        Wf -- Weight matrix of the forget gate, numpy array of shape (n_a, n_a + n_x)\n",
    "                        bf -- Bias of the forget gate, numpy array of shape (n_a, 1)\n",
    "                        Wi -- Weight matrix of the update gate, numpy array of shape (n_a, n_a + n_x)\n",
    "                        bi -- Bias of the update gate, numpy array of shape (n_a, 1)\n",
    "                        Wc -- Weight matrix of the first \"tanh\", numpy array of shape (n_a, n_a + n_x)\n",
    "                        bc --  Bias of the first \"tanh\", numpy array of shape (n_a, 1)\n",
    "                        Wo -- Weight matrix of the output gate, numpy array of shape (n_a, n_a + n_x)\n",
    "                        bo --  Bias of the output gate, numpy array of shape (n_a, 1)\n",
    "                        Wy -- Weight matrix relating the hidden-state to the output, numpy array of shape (n_y, n_a)\n",
    "                        by -- Bias relating the hidden-state to the output, numpy array of shape (n_y, 1)\n",
    "                        \n",
    "    Returns:\n",
    "    a_next -- next hidden state, of shape (n_a, m)\n",
    "    c_next -- next memory state, of shape (n_a, m)\n",
    "    yt_pred -- prediction at timestep \"t\", numpy array of shape (n_y, m)\n",
    "    cache -- tuple of values needed for the backward pass, contains (a_next, c_next, a_prev, c_prev, xt, parameters)\n",
    "    \n",
    "    Note: ft/it/ot stand for the forget/update/output gates, cct stands for the candidate value (c tilde),\n",
    "          c stands for the memory value\n",
    "    \"\"\"\n",
    "\n",
    "    # Retrieve parameters from \"parameters\"\n",
    "    Wf = parameters[\"Wf\"]\n",
    "    bf = parameters[\"bf\"]\n",
    "    Wi = parameters[\"Wi\"]\n",
    "    bi = parameters[\"bi\"]\n",
    "    Wc = parameters[\"Wc\"]\n",
    "    bc = parameters[\"bc\"]\n",
    "    Wo = parameters[\"Wo\"]\n",
    "    bo = parameters[\"bo\"]\n",
    "    Wy = parameters[\"Wy\"]\n",
    "    by = parameters[\"by\"]\n",
    "    \n",
    "    # Retrieve dimensions from shapes of xt and Wy\n",
    "    n_x, m = xt.shape\n",
    "    n_y, n_a = Wy.shape\n",
    "\n",
    "    ### START CODE HERE ###\n",
    "    # Concatenate a_prev and xt (≈3 lines)\n",
    "    concat =np.zeros((n_a+n_x,m))\n",
    "    concat[: n_a, :] =a_prev\n",
    "    concat[n_a :, :] = xt\n",
    "\n",
    "    # Compute values for ft, it, cct, c_next, ot, a_next using the formulas given figure (4) (≈6 lines)\n",
    "    ft = sigmoid(np.dot(Wf,concat)+bf)\n",
    "    it = sigmoid(np.dot(Wi,concat)+bi)\n",
    "    cct = np.tanh(np.dot(Wc,concat)+bc)\n",
    "    c_next = ft*c_prev+ it*cct\n",
    "    ot = sigmoid(np.dot(Wo,concat)+bo)\n",
    "    a_next =ot*np.tanh(c_next)\n",
    "    \n",
    "    # Compute prediction of the LSTM cell (≈1 line)\n",
    "    yt_pred = softmax(np.dot(Wy,a_next)+by)\n",
    "    ### END CODE HERE ###\n",
    "\n",
    "    # store values needed for backward propagation in cache\n",
    "    cache = (a_next, c_next, a_prev, c_prev, ft, it, cct, ot, xt, parameters)\n",
    "\n",
    "    return a_next, c_next, yt_pred, cache"
   ]
  },
  {
   "cell_type": "code",
   "execution_count": 12,
   "metadata": {
    "ExecuteTime": {
     "end_time": "2019-06-17T17:07:33.981599Z",
     "start_time": "2019-06-17T17:07:33.962934Z"
    }
   },
   "outputs": [
    {
     "name": "stdout",
     "output_type": "stream",
     "text": [
      "a_next[4] =  [-0.66408471  0.0036921   0.02088357  0.22834167 -0.85575339  0.00138482\n",
      "  0.76566531  0.34631421 -0.00215674  0.43827275]\n",
      "a_next.shape =  (5, 10)\n",
      "c_next[2] =  [ 0.63267805  1.00570849  0.35504474  0.20690913 -1.64566718  0.11832942\n",
      "  0.76449811 -0.0981561  -0.74348425 -0.26810932]\n",
      "c_next.shape =  (5, 10)\n",
      "yt[1] = [0.79913913 0.15986619 0.22412122 0.15606108 0.97057211 0.31146381\n",
      " 0.00943007 0.12666353 0.39380172 0.07828381]\n",
      "yt.shape =  (2, 10)\n",
      "cache[1][3] = [-0.16263996  1.03729328  0.72938082 -0.54101719  0.02752074 -0.30821874\n",
      "  0.07651101 -1.03752894  1.41219977 -0.37647422]\n",
      "len(cache) =  10\n"
     ]
    }
   ],
   "source": [
    "np.random.seed(1)\n",
    "xt = np.random.randn(3,10)\n",
    "a_prev = np.random.randn(5,10)\n",
    "c_prev = np.random.randn(5,10)\n",
    "Wf = np.random.randn(5, 5+3)\n",
    "bf = np.random.randn(5,1)\n",
    "Wi = np.random.randn(5, 5+3)\n",
    "bi = np.random.randn(5,1)\n",
    "Wo = np.random.randn(5, 5+3)\n",
    "bo = np.random.randn(5,1)\n",
    "Wc = np.random.randn(5, 5+3)\n",
    "bc = np.random.randn(5,1)\n",
    "Wy = np.random.randn(2,5)\n",
    "by = np.random.randn(2,1)\n",
    "\n",
    "parameters = {\"Wf\": Wf, \"Wi\": Wi, \"Wo\": Wo, \"Wc\": Wc, \"Wy\": Wy, \"bf\": bf, \"bi\": bi, \"bo\": bo, \"bc\": bc, \"by\": by}\n",
    "\n",
    "a_next, c_next, yt, cache = lstm_cell_forward(xt, a_prev, c_prev, parameters)\n",
    "print(\"a_next[4] = \", a_next[4])\n",
    "print(\"a_next.shape = \", c_next.shape)\n",
    "print(\"c_next[2] = \", c_next[2])\n",
    "print(\"c_next.shape = \", c_next.shape)\n",
    "print(\"yt[1] =\", yt[1])\n",
    "print(\"yt.shape = \", yt.shape)\n",
    "print(\"cache[1][3] =\", cache[1][3])\n",
    "print(\"len(cache) = \", len(cache))"
   ]
  },
  {
   "cell_type": "markdown",
   "metadata": {},
   "source": [
    "# LSTM Forward Pass\n",
    "\n",
    "Now that we have implemented one step of an LSTM, we can now iterate this over this using a for-loop to process a sequence of $T_x$ inputs. \n",
    "![](images/lstm_fp.PNG)"
   ]
  },
  {
   "cell_type": "code",
   "execution_count": 13,
   "metadata": {
    "ExecuteTime": {
     "end_time": "2019-06-17T17:07:37.172701Z",
     "start_time": "2019-06-17T17:07:37.156451Z"
    }
   },
   "outputs": [],
   "source": [
    "# GRADED FUNCTION: lstm_forward\n",
    "\n",
    "def lstm_forward(x, a0, parameters):\n",
    "    \"\"\"\n",
    "    Implement the forward propagation of the recurrent neural network using an LSTM-cell described in Figure (3).\n",
    "\n",
    "    Arguments:\n",
    "    x -- Input data for every time-step, of shape (n_x, m, T_x).\n",
    "    a0 -- Initial hidden state, of shape (n_a, m)\n",
    "    parameters -- python dictionary containing:\n",
    "                        Wf -- Weight matrix of the forget gate, numpy array of shape (n_a, n_a + n_x)\n",
    "                        bf -- Bias of the forget gate, numpy array of shape (n_a, 1)\n",
    "                        Wi -- Weight matrix of the update gate, numpy array of shape (n_a, n_a + n_x)\n",
    "                        bi -- Bias of the update gate, numpy array of shape (n_a, 1)\n",
    "                        Wc -- Weight matrix of the first \"tanh\", numpy array of shape (n_a, n_a + n_x)\n",
    "                        bc -- Bias of the first \"tanh\", numpy array of shape (n_a, 1)\n",
    "                        Wo -- Weight matrix of the output gate, numpy array of shape (n_a, n_a + n_x)\n",
    "                        bo -- Bias of the output gate, numpy array of shape (n_a, 1)\n",
    "                        Wy -- Weight matrix relating the hidden-state to the output, numpy array of shape (n_y, n_a)\n",
    "                        by -- Bias relating the hidden-state to the output, numpy array of shape (n_y, 1)\n",
    "                        \n",
    "    Returns:\n",
    "    a -- Hidden states for every time-step, numpy array of shape (n_a, m, T_x)\n",
    "    y -- Predictions for every time-step, numpy array of shape (n_y, m, T_x)\n",
    "    caches -- tuple of values needed for the backward pass, contains (list of all the caches, x)\n",
    "    \"\"\"\n",
    "\n",
    "    # Initialize \"caches\", which will track the list of all the caches\n",
    "    caches = []\n",
    "    \n",
    "    ### START CODE HERE ###\n",
    "    # Retrieve dimensions from shapes of x and parameters['Wy'] (≈2 lines)\n",
    "    n_x, m, T_x =x.shape\n",
    "    n_y, n_a = parameters[\"Wy\"].shape\n",
    "    \n",
    "    # initialize \"a\", \"c\" and \"y\" with zeros (≈3 lines)\n",
    "    a = np.zeros(shape=(n_a,m,T_x))\n",
    "    c = np.zeros(shape=(n_a,m,T_x))\n",
    "    y = np.zeros(shape=(n_y,m,T_x))\n",
    "    \n",
    "    # Initialize a_next and c_next (≈2 lines)\n",
    "    a_next = a0\n",
    "    c_next = np.zeros(shape=a_next.shape)\n",
    "    \n",
    "    # loop over all time-steps\n",
    "    for t in range(T_x):\n",
    "        # Update next hidden state, next memory state, compute the prediction, get the cache (≈1 line)\n",
    "        a_next, c_next, yt, cache = lstm_cell_forward(x[:,:,t],a_next,c_next,parameters)\n",
    "        # Save the value of the new \"next\" hidden state in a (≈1 line)\n",
    "        a[:,:,t] = a_next\n",
    "        # Save the value of the prediction in y (≈1 line)\n",
    "        y[:,:,t] = yt\n",
    "        # Save the value of the next cell state (≈1 line)\n",
    "        c[:,:,t]  = c_next\n",
    "        # Append the cache into caches (≈1 line)\n",
    "        caches.append(cache)\n",
    "        \n",
    "    ### END CODE HERE ###\n",
    "    \n",
    "    # store values needed for backward propagation in cache\n",
    "    caches = (caches, x)\n",
    "\n",
    "    return a, y, c, caches"
   ]
  },
  {
   "cell_type": "code",
   "execution_count": 14,
   "metadata": {
    "ExecuteTime": {
     "end_time": "2019-06-17T17:07:38.010071Z",
     "start_time": "2019-06-17T17:07:37.988457Z"
    }
   },
   "outputs": [
    {
     "name": "stdout",
     "output_type": "stream",
     "text": [
      "a[4][3][6] =  0.17211776753291672\n",
      "a.shape =  (5, 10, 7)\n",
      "y[1][4][3] = 0.9508734618501101\n",
      "y.shape =  (2, 10, 7)\n",
      "caches[1][1[1]] = [ 0.82797464  0.23009474  0.76201118 -0.22232814 -0.20075807  0.18656139\n",
      "  0.41005165]\n",
      "c[1][2][1] -0.8555449167181981\n",
      "len(caches) =  2\n"
     ]
    }
   ],
   "source": [
    "np.random.seed(1)\n",
    "x = np.random.randn(3,10,7)\n",
    "a0 = np.random.randn(5,10)\n",
    "Wf = np.random.randn(5, 5+3)\n",
    "bf = np.random.randn(5,1)\n",
    "Wi = np.random.randn(5, 5+3)\n",
    "bi = np.random.randn(5,1)\n",
    "Wo = np.random.randn(5, 5+3)\n",
    "bo = np.random.randn(5,1)\n",
    "Wc = np.random.randn(5, 5+3)\n",
    "bc = np.random.randn(5,1)\n",
    "Wy = np.random.randn(2,5)\n",
    "by = np.random.randn(2,1)\n",
    "\n",
    "parameters = {\"Wf\": Wf, \"Wi\": Wi, \"Wo\": Wo, \"Wc\": Wc, \"Wy\": Wy, \"bf\": bf, \"bi\": bi, \"bo\": bo, \"bc\": bc, \"by\": by}\n",
    "\n",
    "a, y, c, caches = lstm_forward(x, a0, parameters)\n",
    "print(\"a[4][3][6] = \", a[4][3][6])\n",
    "print(\"a.shape = \", a.shape)\n",
    "print(\"y[1][4][3] =\", y[1][4][3])\n",
    "print(\"y.shape = \", y.shape)\n",
    "print(\"caches[1][1[1]] =\", caches[1][1][1])\n",
    "print(\"c[1][2][1]\", c[1][2][1])\n",
    "print(\"len(caches) = \", len(caches))"
   ]
  },
  {
   "cell_type": "markdown",
   "metadata": {},
   "source": [
    "# Language Model\n",
    "\n",
    "Training Data:\n",
    "1. Training Data - A large corpus of text\n",
    "2. Training Data Representation - One hot Vector +/- Unknown +/- End of Statement\n",
    "3. Input:\n",
    "    <br>X(1) = 0 , X(2) = Y(1) , X(3) = Y(2)\n",
    "    <br>Input to the next time step is  based on a sampling done from distribution defined by the vector probability of Y(hat)\n",
    "4. Ouput:\n",
    "    <br>Y(1) = P[(X(2)/ X(1)] , Y(2) = P[(X(3)/X(1),X(2)] .... Y(t-1) = P[X(t) / X(1) ,X(2) ,...X(t-1)] \n",
    "5. Loss Function - Binary / Multiclass Cross Entropy Loss\n",
    "6. Total Loss  -Overall loss is sum over all time steps of the loss associated with the individual predictions.\n",
    "Multilabel loss over all time\n"
   ]
  },
  {
   "cell_type": "markdown",
   "metadata": {},
   "source": [
    "# References\n",
    "\n",
    "# Further Reading\n",
    "[What are Hidden Units](https://www.reddit.com/r/MachineLearning/comments/87djn7/d_what_is_meant_by_number_of_hidden_units_in_an/)\n",
    "<br>\n",
    "[Dropouts in RNN](https://arxiv.org/pdf/1512.05287.pdf)\n",
    "<BR>\n",
    "[Different Dropouts in RNN](https://stackoverflow.com/questions/44924690/keras-the-difference-between-lstm-dropout-and-lstm-recurrent-dropout)\n",
    "<br>\n",
    "[Tips and Tricks to train Char-RCNN](https://github.com/karpathy/char-rnn#tips-and-tricks)"
   ]
  },
  {
   "cell_type": "markdown",
   "metadata": {},
   "source": [
    "# Representation of Text for Sequence Task\n",
    "\n",
    "    Every text in a sentence is represented using one hector vector based on its position in the vocabulary\n",
    "![](https://cdn-images-1.medium.com/max/1200/1*YEJf9BQQh0ma1ECs6x_7yQ.png)"
   ]
  },
  {
   "cell_type": "markdown",
   "metadata": {},
   "source": [
    "# Notations (handy)\n",
    "\n",
    "\n",
    "\n",
    "Notation\n",
    "W<sub>(a x)( a- to get \"a\" type quantity, x- to be multipled by X type quantity)</sup>\n",
    "\n",
    "a<sup><0></sup> =0\n",
    "<br>\n",
    "a<sup><1></sup> = g (W<sub>aa</sub> * a<sup><0></sup> + W <sub>ax</sub> * X<sup><1></sup> + b<sub>a</sub>)\n",
    "<br>\n",
    "y<sup><1></sup> = g' (W<sub>ya</sub> * a<sup><1></sup> + b<sub>y</sub>)\n",
    "<br>\n",
    "a<sup><(t)></sup> = g (W<sub>aa</sub> * a<sup><(t-1)></sup> + W <sub>ax</sub> * X<sup><(t)></sup> + b<sub>a</sub>)\n",
    "<br>\n",
    "y<sup><(t)></sup> = g' (W<sub>ya</sub> * a<sup><t></sup> + b<sub>y</sub>)\n",
    "    \n",
    "    \n",
    "g(x) -tanh or relu\n",
    "<br>\n",
    "g'(x) - What kind of output we want - Sigmoid,Softmax\n",
    "\n",
    "\n",
    "**Simplified Notation**\n",
    "<br>\n",
    "Above equation a<sup><(t)></sup> = g (W<sub>aa</sub> * a<sup><(t-1)></sup> + W <sub>ax</sub> * X<sup><(t)></sup> + b<sub>a</sub>) can be written as :\n",
    "<br>\n",
    "    \n",
    "    \n",
    "a<sup><(t)></sup> = g (W<sub>a</sub> [ a<sup><(t-1)></sup> , X<sup><(t)></sup>] + b<sub>a</sub>)\n",
    "<br>\n",
    "1.      **W<sub>a</sub>** = Stacking horizontally -> [W<sub>aa</sub> W<sub>ax</sub>]\n",
    "    <br>\n",
    "    Example:\n",
    "    a - 100dimensional vector  , X- 10,000 dimensional vector\n",
    "\n",
    "    aa- [100,100]\n",
    "    <br>\n",
    "    ax -[100,10000]\n",
    "    <br>\n",
    "    Wa - [100 ,10100]\n",
    "<br>\n",
    "\n",
    "\n",
    "2. **[ a<sup><(t-1)></sup> , X<sup><(t)></sup>]** = Single vector of 10100 x1\n",
    "    "
   ]
  }
 ],
 "metadata": {
  "kernelspec": {
   "display_name": "Python 3",
   "language": "python",
   "name": "python3"
  },
  "language_info": {
   "codemirror_mode": {
    "name": "ipython",
    "version": 3
   },
   "file_extension": ".py",
   "mimetype": "text/x-python",
   "name": "python",
   "nbconvert_exporter": "python",
   "pygments_lexer": "ipython3",
   "version": "3.5.5"
  },
  "toc": {
   "base_numbering": 1,
   "nav_menu": {},
   "number_sections": true,
   "sideBar": false,
   "skip_h1_title": false,
   "title_cell": "Table of Contents",
   "title_sidebar": "Contents",
   "toc_cell": false,
   "toc_position": {
    "height": "462.222px",
    "left": "123px",
    "top": "110.926px",
    "width": "319.977px"
   },
   "toc_section_display": true,
   "toc_window_display": false
  }
 },
 "nbformat": 4,
 "nbformat_minor": 2
}
